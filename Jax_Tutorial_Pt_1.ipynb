{
  "nbformat": 4,
  "nbformat_minor": 0,
  "metadata": {
    "colab": {
      "provenance": [],
      "gpuType": "T4",
      "authorship_tag": "ABX9TyOsE0qw3iF0reFAhQrgiOmP",
      "include_colab_link": true
    },
    "kernelspec": {
      "name": "python3",
      "display_name": "Python 3"
    },
    "language_info": {
      "name": "python"
    },
    "accelerator": "GPU"
  },
  "cells": [
    {
      "cell_type": "markdown",
      "metadata": {
        "id": "view-in-github",
        "colab_type": "text"
      },
      "source": [
        "<a href=\"https://colab.research.google.com/github/ArmaanSethi/Learn-Jax/blob/main/Jax_Tutorial_Pt_1.ipynb\" target=\"_parent\"><img src=\"https://colab.research.google.com/assets/colab-badge.svg\" alt=\"Open In Colab\"/></a>"
      ]
    },
    {
      "cell_type": "code",
      "execution_count": 5,
      "metadata": {
        "id": "mio0NmrAOswk"
      },
      "outputs": [],
      "source": [
        "import jax.numpy as jnp\n",
        "from jax import grad, jit, vmap\n",
        "from jax import random\n"
      ]
    },
    {
      "cell_type": "code",
      "source": [
        "key = random.key(0)\n",
        "print(key)\n",
        "x = random.normal(key, (10,))\n",
        "print(x)\n"
      ],
      "metadata": {
        "colab": {
          "base_uri": "https://localhost:8080/"
        },
        "id": "9u3d6r4xOvrO",
        "outputId": "995beddf-74c0-4dfa-8cc6-cab86498e508"
      },
      "execution_count": 6,
      "outputs": [
        {
          "output_type": "stream",
          "name": "stdout",
          "text": [
            "Array((), dtype=key<fry>) overlaying:\n",
            "[0 0]\n",
            "[-0.3721109   0.26423115 -0.18252768 -0.7368197  -0.44030377 -0.1521442\n",
            " -0.67135346 -0.5908641   0.73168886  0.5673026 ]\n"
          ]
        }
      ]
    },
    {
      "cell_type": "code",
      "source": [
        "size = 3000\n",
        "x = random.normal(key, (size, size), dtype=jnp.float32)\n",
        "%timeit jnp.dot(x, x.T).block_until_ready()  # runs on the GPU\n"
      ],
      "metadata": {
        "colab": {
          "base_uri": "https://localhost:8080/"
        },
        "id": "iTYjfc0zO2DW",
        "outputId": "150b119b-3291-46e9-ce95-2df531455e27"
      },
      "execution_count": 7,
      "outputs": [
        {
          "output_type": "stream",
          "name": "stdout",
          "text": [
            "15.2 ms ± 1.38 ms per loop (mean ± std. dev. of 7 runs, 1 loop each)\n"
          ]
        }
      ]
    },
    {
      "cell_type": "code",
      "source": [
        "import numpy as np\n",
        "x = np.random.normal(size=(size, size)).astype(np.float32)\n",
        "%timeit jnp.dot(x, x.T).block_until_ready()\n"
      ],
      "metadata": {
        "colab": {
          "base_uri": "https://localhost:8080/"
        },
        "id": "EoM_ze50O8Tf",
        "outputId": "ccbeef44-5aac-47af-aece-34c9047123f8"
      },
      "execution_count": 8,
      "outputs": [
        {
          "output_type": "stream",
          "name": "stdout",
          "text": [
            "37 ms ± 579 µs per loop (mean ± std. dev. of 7 runs, 10 loops each)\n"
          ]
        }
      ]
    },
    {
      "cell_type": "code",
      "source": [
        "from jax import device_put\n",
        "\n",
        "x = np.random.normal(size=(size, size)).astype(np.float32)\n",
        "x = device_put(x)\n",
        "%timeit jnp.dot(x, x.T).block_until_ready()\n"
      ],
      "metadata": {
        "colab": {
          "base_uri": "https://localhost:8080/"
        },
        "id": "WwELQNY-PD6B",
        "outputId": "60a807fa-8f00-4f02-b26a-11c912245d05"
      },
      "execution_count": 9,
      "outputs": [
        {
          "output_type": "stream",
          "name": "stdout",
          "text": [
            "16.9 ms ± 98.6 µs per loop (mean ± std. dev. of 7 runs, 100 loops each)\n"
          ]
        }
      ]
    },
    {
      "cell_type": "code",
      "source": [
        "def selu(x, alpha=1.67, lmbda=1.05):\n",
        "  return lmbda * jnp.where(x > 0, x, alpha * jnp.exp(x) - alpha)\n",
        "\n",
        "x = random.normal(key, (1000000,))\n",
        "%timeit selu(x).block_until_ready()\n"
      ],
      "metadata": {
        "colab": {
          "base_uri": "https://localhost:8080/"
        },
        "id": "U-51T3DlPJGe",
        "outputId": "e6a6bf2b-ca7c-409b-b60a-59d490cef320"
      },
      "execution_count": 10,
      "outputs": [
        {
          "output_type": "stream",
          "name": "stdout",
          "text": [
            "854 µs ± 66.2 µs per loop (mean ± std. dev. of 7 runs, 1 loop each)\n"
          ]
        }
      ]
    },
    {
      "cell_type": "code",
      "source": [
        "selu_jit = jit(selu)\n",
        "%timeit selu_jit(x).block_until_ready()\n"
      ],
      "metadata": {
        "colab": {
          "base_uri": "https://localhost:8080/"
        },
        "id": "r0PoXWtKPPfl",
        "outputId": "65998ce3-fc87-44af-daed-d78e0977bf33"
      },
      "execution_count": 11,
      "outputs": [
        {
          "output_type": "stream",
          "name": "stdout",
          "text": [
            "148 µs ± 11.5 µs per loop (mean ± std. dev. of 7 runs, 10000 loops each)\n"
          ]
        }
      ]
    },
    {
      "cell_type": "code",
      "source": [
        "def sum_logistic(x):\n",
        "  return jnp.sum(1.0 / (1.0 + jnp.exp(-x)))\n",
        "\n",
        "x_small = jnp.arange(3.)\n",
        "derivative_fn = grad(sum_logistic)\n",
        "print(derivative_fn(x_small))\n"
      ],
      "metadata": {
        "colab": {
          "base_uri": "https://localhost:8080/"
        },
        "id": "fLauUd9APUWq",
        "outputId": "2196a90a-cce2-4260-c056-de2299e5ca50"
      },
      "execution_count": 12,
      "outputs": [
        {
          "output_type": "stream",
          "name": "stdout",
          "text": [
            "[0.25       0.19661194 0.10499357]\n"
          ]
        }
      ]
    },
    {
      "cell_type": "code",
      "source": [
        "def first_finite_differences(f, x):\n",
        "  eps = 1e-3\n",
        "  return jnp.array([(f(x + eps * v) - f(x - eps * v)) / (2 * eps)\n",
        "                   for v in jnp.eye(len(x))])\n",
        "\n",
        "\n",
        "print(first_finite_differences(sum_logistic, x_small))\n"
      ],
      "metadata": {
        "colab": {
          "base_uri": "https://localhost:8080/"
        },
        "id": "0MqH0fZkPX-v",
        "outputId": "6cc8bc11-202c-411a-acd3-38bfdec889b3"
      },
      "execution_count": 13,
      "outputs": [
        {
          "output_type": "stream",
          "name": "stdout",
          "text": [
            "[0.24998187 0.1965761  0.10502338]\n"
          ]
        }
      ]
    },
    {
      "cell_type": "code",
      "source": [
        "print(grad(jit(grad(jit(grad(sum_logistic)))))(1.0))\n"
      ],
      "metadata": {
        "colab": {
          "base_uri": "https://localhost:8080/"
        },
        "id": "6zV8ozfYPbdl",
        "outputId": "b43bd465-7457-4afd-f0ea-a7c613ba92e0"
      },
      "execution_count": 14,
      "outputs": [
        {
          "output_type": "stream",
          "name": "stdout",
          "text": [
            "-0.0353256\n"
          ]
        }
      ]
    },
    {
      "cell_type": "code",
      "source": [
        "import jax.numpy as jnp\n",
        "jnp.add(1, 1.0)  # jax.numpy API implicitly promotes mixed types.\n"
      ],
      "metadata": {
        "colab": {
          "base_uri": "https://localhost:8080/"
        },
        "id": "ujXOU01APc_f",
        "outputId": "dfd79141-886d-4213-a5e3-931ce1a69896"
      },
      "execution_count": 15,
      "outputs": [
        {
          "output_type": "execute_result",
          "data": {
            "text/plain": [
              "Array(2., dtype=float32, weak_type=True)"
            ]
          },
          "metadata": {},
          "execution_count": 15
        }
      ]
    },
    {
      "cell_type": "code",
      "source": [
        "from jax import lax\n",
        "lax.add(1, 1.0)  # jax.lax API requires explicit type promotion.\n"
      ],
      "metadata": {
        "colab": {
          "base_uri": "https://localhost:8080/",
          "height": 1000
        },
        "id": "XXjRBu_xP676",
        "outputId": "d74a8291-62ea-4f67-f135-9b2013317b4d"
      },
      "execution_count": 16,
      "outputs": [
        {
          "output_type": "error",
          "ename": "ValueError",
          "evalue": "Cannot lower jaxpr with verifier errors:\n\t'stablehlo.add' op requires compatible types for all operands and results\n\t\tat loc(\"jit(add)/jit(main)/add\"(callsite(\"<cell line: 2>\"(\"<ipython-input-16-63245925fccf>\":2:0) at callsite(\"run_code\"(\"/usr/local/lib/python3.10/dist-packages/IPython/core/interactiveshell.py\":3553:0) at callsite(\"run_ast_nodes\"(\"/usr/local/lib/python3.10/dist-packages/IPython/core/interactiveshell.py\":3473:0) at callsite(\"run_cell_async\"(\"/usr/local/lib/python3.10/dist-packages/IPython/core/interactiveshell.py\":3257:0) at callsite(\"_pseudo_sync_runner\"(\"/usr/local/lib/python3.10/dist-packages/IPython/core/async_helpers.py\":78:0) at callsite(\"_run_cell\"(\"/usr/local/lib/python3.10/dist-packages/IPython/core/interactiveshell.py\":3030:0) at callsite(\"run_cell\"(\"/usr/local/lib/python3.10/dist-packages/IPython/core/interactiveshell.py\":2975:0) at callsite(\"run_cell\"(\"/usr/local/lib/python3.10/dist-packages/ipykernel/zmqshell.py\":539:0) at callsite(\"do_execute\"(\"/usr/local/lib/python3.10/dist-packages/ipykernel/ipkernel.py\":302:0) at \"wrapper\"(\"/usr/local/lib/python3.10/dist-packages/tornado/gen.py\":234:0))))))))))))\n\tsee current operation: %0 = \"stablehlo.add\"(%arg0, %arg1) : (tensor<i32>, tensor<f32>) -> tensor<i32>\n\t\tat loc(\"jit(add)/jit(main)/add\"(callsite(\"<cell line: 2>\"(\"<ipython-input-16-63245925fccf>\":2:0) at callsite(\"run_code\"(\"/usr/local/lib/python3.10/dist-packages/IPython/core/interactiveshell.py\":3553:0) at callsite(\"run_ast_nodes\"(\"/usr/local/lib/python3.10/dist-packages/IPython/core/interactiveshell.py\":3473:0) at callsite(\"run_cell_async\"(\"/usr/local/lib/python3.10/dist-packages/IPython/core/interactiveshell.py\":3257:0) at callsite(\"_pseudo_sync_runner\"(\"/usr/local/lib/python3.10/dist-packages/IPython/core/async_helpers.py\":78:0) at callsite(\"_run_cell\"(\"/usr/local/lib/python3.10/dist-packages/IPython/core/interactiveshell.py\":3030:0) at callsite(\"run_cell\"(\"/usr/local/lib/python3.10/dist-packages/IPython/core/interactiveshell.py\":2975:0) at callsite(\"run_cell\"(\"/usr/local/lib/python3.10/dist-packages/ipykernel/zmqshell.py\":539:0) at callsite(\"do_execute\"(\"/usr/local/lib/python3.10/dist-packages/ipykernel/ipkernel.py\":302:0) at \"wrapper\"(\"/usr/local/lib/python3.10/dist-packages/tornado/gen.py\":234:0))))))))))))Define JAX_DUMP_IR_TO to dump the module.",
          "traceback": [
            "\u001b[0;31m---------------------------------------------------------------------------\u001b[0m",
            "\u001b[0;31mMLIRError\u001b[0m                                 Traceback (most recent call last)",
            "\u001b[0;32m/usr/local/lib/python3.10/dist-packages/jax/_src/interpreters/mlir.py\u001b[0m in \u001b[0;36mlower_jaxpr_to_module\u001b[0;34m(***failed resolving arguments***)\u001b[0m\n\u001b[1;32m    988\u001b[0m   \u001b[0;32mtry\u001b[0m\u001b[0;34m:\u001b[0m\u001b[0;34m\u001b[0m\u001b[0;34m\u001b[0m\u001b[0m\n\u001b[0;32m--> 989\u001b[0;31m     \u001b[0;32mif\u001b[0m \u001b[0;32mnot\u001b[0m \u001b[0mctx\u001b[0m\u001b[0;34m.\u001b[0m\u001b[0mmodule\u001b[0m\u001b[0;34m.\u001b[0m\u001b[0moperation\u001b[0m\u001b[0;34m.\u001b[0m\u001b[0mverify\u001b[0m\u001b[0;34m(\u001b[0m\u001b[0;34m)\u001b[0m\u001b[0;34m:\u001b[0m\u001b[0;34m\u001b[0m\u001b[0;34m\u001b[0m\u001b[0m\n\u001b[0m\u001b[1;32m    990\u001b[0m       raise ValueError(\n",
            "\u001b[0;31mMLIRError\u001b[0m: Verification failed:\nerror: \"jit(add)/jit(main)/add\"(callsite(\"<cell line: 2>\"(\"<ipython-input-16-63245925fccf>\":2:0) at callsite(\"run_code\"(\"/usr/local/lib/python3.10/dist-packages/IPython/core/interactiveshell.py\":3553:0) at callsite(\"run_ast_nodes\"(\"/usr/local/lib/python3.10/dist-packages/IPython/core/interactiveshell.py\":3473:0) at callsite(\"run_cell_async\"(\"/usr/local/lib/python3.10/dist-packages/IPython/core/interactiveshell.py\":3257:0) at callsite(\"_pseudo_sync_runner\"(\"/usr/local/lib/python3.10/dist-packages/IPython/core/async_helpers.py\":78:0) at callsite(\"_run_cell\"(\"/usr/local/lib/python3.10/dist-packages/IPython/core/interactiveshell.py\":3030:0) at callsite(\"run_cell\"(\"/usr/local/lib/python3.10/dist-packages/IPython/core/interactiveshell.py\":2975:0) at callsite(\"run_cell\"(\"/usr/local/lib/python3.10/dist-packages/ipykernel/zmqshell.py\":539:0) at callsite(\"do_execute\"(\"/usr/local/lib/python3.10/dist-packages/ipykernel/ipkernel.py\":302:0) at \"wrapper\"(\"/usr/local/lib/python3.10/dist-packages/tornado/gen.py\":234:0))))))))))): 'stablehlo.add' op requires compatible types for all operands and results\n note: \"jit(add)/jit(main)/add\"(callsite(\"<cell line: 2>\"(\"<ipython-input-16-63245925fccf>\":2:0) at callsite(\"run_code\"(\"/usr/local/lib/python3.10/dist-packages/IPython/core/interactiveshell.py\":3553:0) at callsite(\"run_ast_nodes\"(\"/usr/local/lib/python3.10/dist-packages/IPython/core/interactiveshell.py\":3473:0) at callsite(\"run_cell_async\"(\"/usr/local/lib/python3.10/dist-packages/IPython/core/interactiveshell.py\":3257:0) at callsite(\"_pseudo_sync_runner\"(\"/usr/local/lib/python3.10/dist-packages/IPython/core/async_helpers.py\":78:0) at callsite(\"_run_cell\"(\"/usr/local/lib/python3.10/dist-packages/IPython/core/interactiveshell.py\":3030:0) at callsite(\"run_cell\"(\"/usr/local/lib/python3.10/dist-packages/IPython/core/interactiveshell.py\":2975:0) at callsite(\"run_cell\"(\"/usr/local/lib/python3.10/dist-packages/ipykernel/zmqshell.py\":539:0) at callsite(\"do_execute\"(\"/usr/local/lib/python3.10/dist-packages/ipykernel/ipkernel.py\":302:0) at \"wrapper\"(\"/usr/local/lib/python3.10/dist-packages/tornado/gen.py\":234:0))))))))))): see current operation: %0 = \"stablehlo.add\"(%arg0, %arg1) : (tensor<i32>, tensor<f32>) -> tensor<i32>",
            "\nThe above exception was the direct cause of the following exception:\n",
            "\u001b[0;31mValueError\u001b[0m                                Traceback (most recent call last)",
            "\u001b[0;32m<ipython-input-16-63245925fccf>\u001b[0m in \u001b[0;36m<cell line: 2>\u001b[0;34m()\u001b[0m\n\u001b[1;32m      1\u001b[0m \u001b[0;32mfrom\u001b[0m \u001b[0mjax\u001b[0m \u001b[0;32mimport\u001b[0m \u001b[0mlax\u001b[0m\u001b[0;34m\u001b[0m\u001b[0;34m\u001b[0m\u001b[0m\n\u001b[0;32m----> 2\u001b[0;31m \u001b[0mlax\u001b[0m\u001b[0;34m.\u001b[0m\u001b[0madd\u001b[0m\u001b[0;34m(\u001b[0m\u001b[0;36m1\u001b[0m\u001b[0;34m,\u001b[0m \u001b[0;36m1.0\u001b[0m\u001b[0;34m)\u001b[0m  \u001b[0;31m# jax.lax API requires explicit type promotion.\u001b[0m\u001b[0;34m\u001b[0m\u001b[0;34m\u001b[0m\u001b[0m\n\u001b[0m",
            "\u001b[0;32m/usr/local/lib/python3.10/dist-packages/jax/_src/lax/lax.py\u001b[0m in \u001b[0;36madd\u001b[0;34m(x, y)\u001b[0m\n\u001b[1;32m    417\u001b[0m \u001b[0;32mdef\u001b[0m \u001b[0madd\u001b[0m\u001b[0;34m(\u001b[0m\u001b[0mx\u001b[0m\u001b[0;34m:\u001b[0m \u001b[0mArrayLike\u001b[0m\u001b[0;34m,\u001b[0m \u001b[0my\u001b[0m\u001b[0;34m:\u001b[0m \u001b[0mArrayLike\u001b[0m\u001b[0;34m)\u001b[0m \u001b[0;34m->\u001b[0m \u001b[0mArray\u001b[0m\u001b[0;34m:\u001b[0m\u001b[0;34m\u001b[0m\u001b[0;34m\u001b[0m\u001b[0m\n\u001b[1;32m    418\u001b[0m   \u001b[0;34mr\"\"\"Elementwise addition: :math:`x + y`.\"\"\"\u001b[0m\u001b[0;34m\u001b[0m\u001b[0;34m\u001b[0m\u001b[0m\n\u001b[0;32m--> 419\u001b[0;31m   \u001b[0;32mreturn\u001b[0m \u001b[0madd_p\u001b[0m\u001b[0;34m.\u001b[0m\u001b[0mbind\u001b[0m\u001b[0;34m(\u001b[0m\u001b[0mx\u001b[0m\u001b[0;34m,\u001b[0m \u001b[0my\u001b[0m\u001b[0;34m)\u001b[0m\u001b[0;34m\u001b[0m\u001b[0;34m\u001b[0m\u001b[0m\n\u001b[0m\u001b[1;32m    420\u001b[0m \u001b[0;34m\u001b[0m\u001b[0m\n\u001b[1;32m    421\u001b[0m \u001b[0;32mdef\u001b[0m \u001b[0msub\u001b[0m\u001b[0;34m(\u001b[0m\u001b[0mx\u001b[0m\u001b[0;34m:\u001b[0m \u001b[0mArrayLike\u001b[0m\u001b[0;34m,\u001b[0m \u001b[0my\u001b[0m\u001b[0;34m:\u001b[0m \u001b[0mArrayLike\u001b[0m\u001b[0;34m)\u001b[0m \u001b[0;34m->\u001b[0m \u001b[0mArray\u001b[0m\u001b[0;34m:\u001b[0m\u001b[0;34m\u001b[0m\u001b[0;34m\u001b[0m\u001b[0m\n",
            "\u001b[0;32m/usr/local/lib/python3.10/dist-packages/jax/_src/core.py\u001b[0m in \u001b[0;36mbind\u001b[0;34m(self, *args, **params)\u001b[0m\n\u001b[1;32m    420\u001b[0m     assert (not config.enable_checks.value or\n\u001b[1;32m    421\u001b[0m             all(isinstance(arg, Tracer) or valid_jaxtype(arg) for arg in args)), args\n\u001b[0;32m--> 422\u001b[0;31m     \u001b[0;32mreturn\u001b[0m \u001b[0mself\u001b[0m\u001b[0;34m.\u001b[0m\u001b[0mbind_with_trace\u001b[0m\u001b[0;34m(\u001b[0m\u001b[0mfind_top_trace\u001b[0m\u001b[0;34m(\u001b[0m\u001b[0margs\u001b[0m\u001b[0;34m)\u001b[0m\u001b[0;34m,\u001b[0m \u001b[0margs\u001b[0m\u001b[0;34m,\u001b[0m \u001b[0mparams\u001b[0m\u001b[0;34m)\u001b[0m\u001b[0;34m\u001b[0m\u001b[0;34m\u001b[0m\u001b[0m\n\u001b[0m\u001b[1;32m    423\u001b[0m \u001b[0;34m\u001b[0m\u001b[0m\n\u001b[1;32m    424\u001b[0m   \u001b[0;32mdef\u001b[0m \u001b[0mbind_with_trace\u001b[0m\u001b[0;34m(\u001b[0m\u001b[0mself\u001b[0m\u001b[0;34m,\u001b[0m \u001b[0mtrace\u001b[0m\u001b[0;34m,\u001b[0m \u001b[0margs\u001b[0m\u001b[0;34m,\u001b[0m \u001b[0mparams\u001b[0m\u001b[0;34m)\u001b[0m\u001b[0;34m:\u001b[0m\u001b[0;34m\u001b[0m\u001b[0;34m\u001b[0m\u001b[0m\n",
            "\u001b[0;32m/usr/local/lib/python3.10/dist-packages/jax/_src/core.py\u001b[0m in \u001b[0;36mbind_with_trace\u001b[0;34m(self, trace, args, params)\u001b[0m\n\u001b[1;32m    423\u001b[0m \u001b[0;34m\u001b[0m\u001b[0m\n\u001b[1;32m    424\u001b[0m   \u001b[0;32mdef\u001b[0m \u001b[0mbind_with_trace\u001b[0m\u001b[0;34m(\u001b[0m\u001b[0mself\u001b[0m\u001b[0;34m,\u001b[0m \u001b[0mtrace\u001b[0m\u001b[0;34m,\u001b[0m \u001b[0margs\u001b[0m\u001b[0;34m,\u001b[0m \u001b[0mparams\u001b[0m\u001b[0;34m)\u001b[0m\u001b[0;34m:\u001b[0m\u001b[0;34m\u001b[0m\u001b[0;34m\u001b[0m\u001b[0m\n\u001b[0;32m--> 425\u001b[0;31m     \u001b[0mout\u001b[0m \u001b[0;34m=\u001b[0m \u001b[0mtrace\u001b[0m\u001b[0;34m.\u001b[0m\u001b[0mprocess_primitive\u001b[0m\u001b[0;34m(\u001b[0m\u001b[0mself\u001b[0m\u001b[0;34m,\u001b[0m \u001b[0mmap\u001b[0m\u001b[0;34m(\u001b[0m\u001b[0mtrace\u001b[0m\u001b[0;34m.\u001b[0m\u001b[0mfull_raise\u001b[0m\u001b[0;34m,\u001b[0m \u001b[0margs\u001b[0m\u001b[0;34m)\u001b[0m\u001b[0;34m,\u001b[0m \u001b[0mparams\u001b[0m\u001b[0;34m)\u001b[0m\u001b[0;34m\u001b[0m\u001b[0;34m\u001b[0m\u001b[0m\n\u001b[0m\u001b[1;32m    426\u001b[0m     \u001b[0;32mreturn\u001b[0m \u001b[0mmap\u001b[0m\u001b[0;34m(\u001b[0m\u001b[0mfull_lower\u001b[0m\u001b[0;34m,\u001b[0m \u001b[0mout\u001b[0m\u001b[0;34m)\u001b[0m \u001b[0;32mif\u001b[0m \u001b[0mself\u001b[0m\u001b[0;34m.\u001b[0m\u001b[0mmultiple_results\u001b[0m \u001b[0;32melse\u001b[0m \u001b[0mfull_lower\u001b[0m\u001b[0;34m(\u001b[0m\u001b[0mout\u001b[0m\u001b[0;34m)\u001b[0m\u001b[0;34m\u001b[0m\u001b[0;34m\u001b[0m\u001b[0m\n\u001b[1;32m    427\u001b[0m \u001b[0;34m\u001b[0m\u001b[0m\n",
            "\u001b[0;32m/usr/local/lib/python3.10/dist-packages/jax/_src/core.py\u001b[0m in \u001b[0;36mprocess_primitive\u001b[0;34m(self, primitive, tracers, params)\u001b[0m\n\u001b[1;32m    911\u001b[0m \u001b[0;34m\u001b[0m\u001b[0m\n\u001b[1;32m    912\u001b[0m   \u001b[0;32mdef\u001b[0m \u001b[0mprocess_primitive\u001b[0m\u001b[0;34m(\u001b[0m\u001b[0mself\u001b[0m\u001b[0;34m,\u001b[0m \u001b[0mprimitive\u001b[0m\u001b[0;34m,\u001b[0m \u001b[0mtracers\u001b[0m\u001b[0;34m,\u001b[0m \u001b[0mparams\u001b[0m\u001b[0;34m)\u001b[0m\u001b[0;34m:\u001b[0m\u001b[0;34m\u001b[0m\u001b[0;34m\u001b[0m\u001b[0m\n\u001b[0;32m--> 913\u001b[0;31m     \u001b[0;32mreturn\u001b[0m \u001b[0mprimitive\u001b[0m\u001b[0;34m.\u001b[0m\u001b[0mimpl\u001b[0m\u001b[0;34m(\u001b[0m\u001b[0;34m*\u001b[0m\u001b[0mtracers\u001b[0m\u001b[0;34m,\u001b[0m \u001b[0;34m**\u001b[0m\u001b[0mparams\u001b[0m\u001b[0;34m)\u001b[0m\u001b[0;34m\u001b[0m\u001b[0;34m\u001b[0m\u001b[0m\n\u001b[0m\u001b[1;32m    914\u001b[0m \u001b[0;34m\u001b[0m\u001b[0m\n\u001b[1;32m    915\u001b[0m   \u001b[0;32mdef\u001b[0m \u001b[0mprocess_call\u001b[0m\u001b[0;34m(\u001b[0m\u001b[0mself\u001b[0m\u001b[0;34m,\u001b[0m \u001b[0mprimitive\u001b[0m\u001b[0;34m,\u001b[0m \u001b[0mf\u001b[0m\u001b[0;34m,\u001b[0m \u001b[0mtracers\u001b[0m\u001b[0;34m,\u001b[0m \u001b[0mparams\u001b[0m\u001b[0;34m)\u001b[0m\u001b[0;34m:\u001b[0m\u001b[0;34m\u001b[0m\u001b[0;34m\u001b[0m\u001b[0m\n",
            "\u001b[0;32m/usr/local/lib/python3.10/dist-packages/jax/_src/dispatch.py\u001b[0m in \u001b[0;36mapply_primitive\u001b[0;34m(prim, *args, **params)\u001b[0m\n\u001b[1;32m     85\u001b[0m     \u001b[0mprev\u001b[0m \u001b[0;34m=\u001b[0m \u001b[0mlib\u001b[0m\u001b[0;34m.\u001b[0m\u001b[0mjax_jit\u001b[0m\u001b[0;34m.\u001b[0m\u001b[0mswap_thread_local_state_disable_jit\u001b[0m\u001b[0;34m(\u001b[0m\u001b[0;32mFalse\u001b[0m\u001b[0;34m)\u001b[0m\u001b[0;34m\u001b[0m\u001b[0;34m\u001b[0m\u001b[0m\n\u001b[1;32m     86\u001b[0m     \u001b[0;32mtry\u001b[0m\u001b[0;34m:\u001b[0m\u001b[0;34m\u001b[0m\u001b[0;34m\u001b[0m\u001b[0m\n\u001b[0;32m---> 87\u001b[0;31m       \u001b[0mouts\u001b[0m \u001b[0;34m=\u001b[0m \u001b[0mfun\u001b[0m\u001b[0;34m(\u001b[0m\u001b[0;34m*\u001b[0m\u001b[0margs\u001b[0m\u001b[0;34m)\u001b[0m\u001b[0;34m\u001b[0m\u001b[0;34m\u001b[0m\u001b[0m\n\u001b[0m\u001b[1;32m     88\u001b[0m     \u001b[0;32mfinally\u001b[0m\u001b[0;34m:\u001b[0m\u001b[0;34m\u001b[0m\u001b[0;34m\u001b[0m\u001b[0m\n\u001b[1;32m     89\u001b[0m       \u001b[0mlib\u001b[0m\u001b[0;34m.\u001b[0m\u001b[0mjax_jit\u001b[0m\u001b[0;34m.\u001b[0m\u001b[0mswap_thread_local_state_disable_jit\u001b[0m\u001b[0;34m(\u001b[0m\u001b[0mprev\u001b[0m\u001b[0;34m)\u001b[0m\u001b[0;34m\u001b[0m\u001b[0;34m\u001b[0m\u001b[0m\n",
            "    \u001b[0;31m[... skipping hidden 14 frame]\u001b[0m\n",
            "\u001b[0;32m/usr/local/lib/python3.10/dist-packages/jax/_src/interpreters/mlir.py\u001b[0m in \u001b[0;36mlower_jaxpr_to_module\u001b[0;34m(***failed resolving arguments***)\u001b[0m\n\u001b[1;32m   1000\u001b[0m     \u001b[0;32mfor\u001b[0m \u001b[0md\u001b[0m \u001b[0;32min\u001b[0m \u001b[0me\u001b[0m\u001b[0;34m.\u001b[0m\u001b[0merror_diagnostics\u001b[0m\u001b[0;34m:\u001b[0m\u001b[0;34m\u001b[0m\u001b[0;34m\u001b[0m\u001b[0m\n\u001b[1;32m   1001\u001b[0m       \u001b[0memit_diagnostic_info\u001b[0m\u001b[0;34m(\u001b[0m\u001b[0md\u001b[0m\u001b[0;34m)\u001b[0m\u001b[0;34m\u001b[0m\u001b[0;34m\u001b[0m\u001b[0m\n\u001b[0;32m-> 1002\u001b[0;31m     raise ValueError(\"\\n\".join(msg_lines) +\n\u001b[0m\u001b[1;32m   1003\u001b[0m                      dump_module_message(ctx.module, \"verification\")) from e\n\u001b[1;32m   1004\u001b[0m \u001b[0;34m\u001b[0m\u001b[0m\n",
            "\u001b[0;31mValueError\u001b[0m: Cannot lower jaxpr with verifier errors:\n\t'stablehlo.add' op requires compatible types for all operands and results\n\t\tat loc(\"jit(add)/jit(main)/add\"(callsite(\"<cell line: 2>\"(\"<ipython-input-16-63245925fccf>\":2:0) at callsite(\"run_code\"(\"/usr/local/lib/python3.10/dist-packages/IPython/core/interactiveshell.py\":3553:0) at callsite(\"run_ast_nodes\"(\"/usr/local/lib/python3.10/dist-packages/IPython/core/interactiveshell.py\":3473:0) at callsite(\"run_cell_async\"(\"/usr/local/lib/python3.10/dist-packages/IPython/core/interactiveshell.py\":3257:0) at callsite(\"_pseudo_sync_runner\"(\"/usr/local/lib/python3.10/dist-packages/IPython/core/async_helpers.py\":78:0) at callsite(\"_run_cell\"(\"/usr/local/lib/python3.10/dist-packages/IPython/core/interactiveshell.py\":3030:0) at callsite(\"run_cell\"(\"/usr/local/lib/python3.10/dist-packages/IPython/core/interactiveshell.py\":2975:0) at callsite(\"run_cell\"(\"/usr/local/lib/python3.10/dist-packages/ipykernel/zmqshell.py\":539:0) at callsite(\"do_execute\"(\"/usr/local/lib/python3.10/dist-packages/ipykernel/ipkernel.py\":302:0) at \"wrapper\"(\"/usr/local/lib/python3.10/dist-packages/tornado/gen.py\":234:0))))))))))))\n\tsee current operation: %0 = \"stablehlo.add\"(%arg0, %arg1) : (tensor<i32>, tensor<f32>) -> tensor<i32>\n\t\tat loc(\"jit(add)/jit(main)/add\"(callsite(\"<cell line: 2>\"(\"<ipython-input-16-63245925fccf>\":2:0) at callsite(\"run_code\"(\"/usr/local/lib/python3.10/dist-packages/IPython/core/interactiveshell.py\":3553:0) at callsite(\"run_ast_nodes\"(\"/usr/local/lib/python3.10/dist-packages/IPython/core/interactiveshell.py\":3473:0) at callsite(\"run_cell_async\"(\"/usr/local/lib/python3.10/dist-packages/IPython/core/interactiveshell.py\":3257:0) at callsite(\"_pseudo_sync_runner\"(\"/usr/local/lib/python3.10/dist-packages/IPython/core/async_helpers.py\":78:0) at callsite(\"_run_cell\"(\"/usr/local/lib/python3.10/dist-packages/IPython/core/interactiveshell.py\":3030:0) at callsite(\"run_cell\"(\"/usr/local/lib/python3.10/dist-packages/IPython/core/interactiveshell.py\":2975:0) at callsite(\"run_cell\"(\"/usr/local/lib/python3.10/dist-packages/ipykernel/zmqshell.py\":539:0) at callsite(\"do_execute\"(\"/usr/local/lib/python3.10/dist-packages/ipykernel/ipkernel.py\":302:0) at \"wrapper\"(\"/usr/local/lib/python3.10/dist-packages/tornado/gen.py\":234:0))))))))))))Define JAX_DUMP_IR_TO to dump the module."
          ]
        }
      ]
    },
    {
      "cell_type": "code",
      "source": [
        "lax.add(jnp.float32(1), 1.0)\n"
      ],
      "metadata": {
        "colab": {
          "base_uri": "https://localhost:8080/"
        },
        "id": "Kr3lqes5P9UD",
        "outputId": "132f5ea2-74a9-4b07-d0a3-57ed6dbdff63"
      },
      "execution_count": 17,
      "outputs": [
        {
          "output_type": "execute_result",
          "data": {
            "text/plain": [
              "Array(2., dtype=float32)"
            ]
          },
          "metadata": {},
          "execution_count": 17
        }
      ]
    },
    {
      "cell_type": "code",
      "source": [
        "x = jnp.array([1, 2, 1])\n",
        "y = jnp.ones(10)\n",
        "jnp.convolve(x, y)\n"
      ],
      "metadata": {
        "colab": {
          "base_uri": "https://localhost:8080/"
        },
        "id": "bk6r51N5P_nA",
        "outputId": "87f907b8-deec-43c6-df76-0a72e60cfb00"
      },
      "execution_count": 18,
      "outputs": [
        {
          "output_type": "execute_result",
          "data": {
            "text/plain": [
              "Array([1., 3., 4., 4., 4., 4., 4., 4., 4., 4., 3., 1.], dtype=float32)"
            ]
          },
          "metadata": {},
          "execution_count": 18
        }
      ]
    },
    {
      "cell_type": "code",
      "source": [
        "from jax import lax\n",
        "result = lax.conv_general_dilated(\n",
        "    x.reshape(1, 1, 3).astype(float),  # note: explicit promotion\n",
        "    y.reshape(1, 1, 10),\n",
        "    window_strides=(1,),\n",
        "    padding=[(len(y) - 1, len(y) - 1)])  # equivalent of padding='full' in NumPy\n",
        "result[0, 0]\n"
      ],
      "metadata": {
        "colab": {
          "base_uri": "https://localhost:8080/"
        },
        "id": "MK7iGX0FQFbI",
        "outputId": "662d820d-6ab2-410d-cc96-3015408e764a"
      },
      "execution_count": 19,
      "outputs": [
        {
          "output_type": "execute_result",
          "data": {
            "text/plain": [
              "Array([1., 3., 4., 4., 4., 4., 4., 4., 4., 4., 3., 1.], dtype=float32)"
            ]
          },
          "metadata": {},
          "execution_count": 19
        }
      ]
    },
    {
      "cell_type": "code",
      "source": [
        "import jax.numpy as jnp\n",
        "\n",
        "def norm(X):\n",
        "  X = X - X.mean(0)\n",
        "  return X / X.std(0)\n"
      ],
      "metadata": {
        "id": "xUT-Yts3QNge"
      },
      "execution_count": 20,
      "outputs": []
    },
    {
      "cell_type": "code",
      "source": [
        "from jax import jit\n",
        "norm_compiled = jit(norm)\n"
      ],
      "metadata": {
        "id": "0jb3FSCkQZHu"
      },
      "execution_count": 21,
      "outputs": []
    },
    {
      "cell_type": "code",
      "source": [
        "np.random.seed(1701)\n",
        "X = jnp.array(np.random.rand(10000, 10))\n",
        "np.allclose(norm(X), norm_compiled(X), atol=1E-6)\n"
      ],
      "metadata": {
        "colab": {
          "base_uri": "https://localhost:8080/"
        },
        "id": "8lNJI4QzQbEj",
        "outputId": "db95cbd5-e60c-41f8-86c7-d9666e76fa18"
      },
      "execution_count": 22,
      "outputs": [
        {
          "output_type": "execute_result",
          "data": {
            "text/plain": [
              "True"
            ]
          },
          "metadata": {},
          "execution_count": 22
        }
      ]
    },
    {
      "cell_type": "code",
      "source": [
        "%timeit norm(X).block_until_ready()\n",
        "%timeit norm_compiled(X).block_until_ready()\n"
      ],
      "metadata": {
        "colab": {
          "base_uri": "https://localhost:8080/"
        },
        "id": "tyil8k3VQdP7",
        "outputId": "c0bdc32e-18ea-40b5-d4ca-906e3a0e037e"
      },
      "execution_count": 23,
      "outputs": [
        {
          "output_type": "stream",
          "name": "stdout",
          "text": [
            "527 µs ± 67.3 µs per loop (mean ± std. dev. of 7 runs, 1000 loops each)\n",
            "161 µs ± 14.9 µs per loop (mean ± std. dev. of 7 runs, 10000 loops each)\n"
          ]
        }
      ]
    },
    {
      "cell_type": "code",
      "source": [
        "def get_negatives(x):\n",
        "  return x[x < 0]\n",
        "\n",
        "x = jnp.array(np.random.randn(10))\n",
        "get_negatives(x)\n"
      ],
      "metadata": {
        "colab": {
          "base_uri": "https://localhost:8080/"
        },
        "id": "BSUjBp8xQh1M",
        "outputId": "1c706bf8-ff4b-43ca-da4f-b30a02544716"
      },
      "execution_count": 24,
      "outputs": [
        {
          "output_type": "execute_result",
          "data": {
            "text/plain": [
              "Array([-0.10570311, -0.59403396, -0.8680282 , -0.23489487], dtype=float32)"
            ]
          },
          "metadata": {},
          "execution_count": 24
        }
      ]
    },
    {
      "cell_type": "code",
      "source": [
        "# jit(get_negatives)(x)\n"
      ],
      "metadata": {
        "id": "G3T0J8cJRLx-"
      },
      "execution_count": 26,
      "outputs": []
    },
    {
      "cell_type": "code",
      "source": [
        "@jit\n",
        "def f(x, y):\n",
        "  print(\"Running f():\")\n",
        "  print(f\"  x = {x}\")\n",
        "  print(f\"  y = {y}\")\n",
        "  result = jnp.dot(x + 1, y + 1)\n",
        "  print(f\"  result = {result}\")\n",
        "  return result\n",
        "\n",
        "x = np.random.randn(3, 4)\n",
        "y = np.random.randn(4)\n",
        "f(x, y)\n"
      ],
      "metadata": {
        "colab": {
          "base_uri": "https://localhost:8080/"
        },
        "id": "GhsCD6MLRNcy",
        "outputId": "603605da-2e79-4ac2-8fed-2a601fa52184"
      },
      "execution_count": 28,
      "outputs": [
        {
          "output_type": "stream",
          "name": "stdout",
          "text": [
            "Running f():\n",
            "  x = Traced<ShapedArray(float32[3,4])>with<DynamicJaxprTrace(level=1/0)>\n",
            "  y = Traced<ShapedArray(float32[4])>with<DynamicJaxprTrace(level=1/0)>\n",
            "  result = Traced<ShapedArray(float32[3])>with<DynamicJaxprTrace(level=1/0)>\n"
          ]
        },
        {
          "output_type": "execute_result",
          "data": {
            "text/plain": [
              "Array([1.4344586, 4.3004413, 7.989701 ], dtype=float32)"
            ]
          },
          "metadata": {},
          "execution_count": 28
        }
      ]
    },
    {
      "cell_type": "code",
      "source": [
        "x2 = np.random.randn(3, 4)\n",
        "y2 = np.random.randn(4)\n",
        "f(x2, y2)\n"
      ],
      "metadata": {
        "colab": {
          "base_uri": "https://localhost:8080/"
        },
        "id": "OlfDbAxlRWOw",
        "outputId": "6b05078b-b18a-4aec-a0a9-6d650c2e2a17"
      },
      "execution_count": 29,
      "outputs": [
        {
          "output_type": "execute_result",
          "data": {
            "text/plain": [
              "Array([4.1002445, 5.468004 , 1.5471637], dtype=float32)"
            ]
          },
          "metadata": {},
          "execution_count": 29
        }
      ]
    },
    {
      "cell_type": "code",
      "source": [
        "from jax import make_jaxpr\n",
        "\n",
        "def f(x, y):\n",
        "  return jnp.dot(x + 1, y + 1)\n",
        "\n",
        "make_jaxpr(f)(x, y)\n"
      ],
      "metadata": {
        "colab": {
          "base_uri": "https://localhost:8080/"
        },
        "id": "5pDHKySpRhKq",
        "outputId": "68c4ab5b-0be0-4c04-c699-ebe3e0eaea5a"
      },
      "execution_count": 30,
      "outputs": [
        {
          "output_type": "execute_result",
          "data": {
            "text/plain": [
              "{ lambda ; a:f32[3,4] b:f32[4]. let\n",
              "    c:f32[3,4] = add a 1.0\n",
              "    d:f32[4] = add b 1.0\n",
              "    e:f32[3] = dot_general[\n",
              "      dimension_numbers=(([1], [0]), ([], []))\n",
              "      preferred_element_type=float32\n",
              "    ] c d\n",
              "  in (e,) }"
            ]
          },
          "metadata": {},
          "execution_count": 30
        }
      ]
    },
    {
      "cell_type": "code",
      "source": [
        "import jax.numpy as jnp\n",
        "from jax import jit\n",
        "\n",
        "@jit\n",
        "def f(x):\n",
        "  return x.reshape(jnp.array(x.shape).prod())\n",
        "\n",
        "x = jnp.ones((2, 3))\n",
        "f(x)\n"
      ],
      "metadata": {
        "colab": {
          "base_uri": "https://localhost:8080/",
          "height": 512
        },
        "id": "Y9mziZ_vRjYn",
        "outputId": "45904554-bd2b-488b-ee34-12ba05ebd152"
      },
      "execution_count": 31,
      "outputs": [
        {
          "output_type": "error",
          "ename": "TypeError",
          "evalue": "Shapes must be 1D sequences of concrete values of integer type, got [Traced<ShapedArray(int32[])>with<DynamicJaxprTrace(level=1/0)>].\nIf using `jit`, try using `static_argnums` or applying `jit` to smaller subfunctions.\nThe error occurred while tracing the function f at <ipython-input-31-5fa933a68063>:4 for jit. This value became a tracer due to JAX operations on these lines:\n\n  operation a:i32[2] = convert_element_type[new_dtype=int32 weak_type=False] b\n    from line <ipython-input-31-5fa933a68063>:6 (f)",
          "traceback": [
            "\u001b[0;31m---------------------------------------------------------------------------\u001b[0m",
            "\u001b[0;31mTypeError\u001b[0m                                 Traceback (most recent call last)",
            "\u001b[0;32m<ipython-input-31-5fa933a68063>\u001b[0m in \u001b[0;36m<cell line: 9>\u001b[0;34m()\u001b[0m\n\u001b[1;32m      7\u001b[0m \u001b[0;34m\u001b[0m\u001b[0m\n\u001b[1;32m      8\u001b[0m \u001b[0mx\u001b[0m \u001b[0;34m=\u001b[0m \u001b[0mjnp\u001b[0m\u001b[0;34m.\u001b[0m\u001b[0mones\u001b[0m\u001b[0;34m(\u001b[0m\u001b[0;34m(\u001b[0m\u001b[0;36m2\u001b[0m\u001b[0;34m,\u001b[0m \u001b[0;36m3\u001b[0m\u001b[0;34m)\u001b[0m\u001b[0;34m)\u001b[0m\u001b[0;34m\u001b[0m\u001b[0;34m\u001b[0m\u001b[0m\n\u001b[0;32m----> 9\u001b[0;31m \u001b[0mf\u001b[0m\u001b[0;34m(\u001b[0m\u001b[0mx\u001b[0m\u001b[0;34m)\u001b[0m\u001b[0;34m\u001b[0m\u001b[0;34m\u001b[0m\u001b[0m\n\u001b[0m",
            "    \u001b[0;31m[... skipping hidden 11 frame]\u001b[0m\n",
            "\u001b[0;32m<ipython-input-31-5fa933a68063>\u001b[0m in \u001b[0;36mf\u001b[0;34m(x)\u001b[0m\n\u001b[1;32m      4\u001b[0m \u001b[0;34m@\u001b[0m\u001b[0mjit\u001b[0m\u001b[0;34m\u001b[0m\u001b[0;34m\u001b[0m\u001b[0m\n\u001b[1;32m      5\u001b[0m \u001b[0;32mdef\u001b[0m \u001b[0mf\u001b[0m\u001b[0;34m(\u001b[0m\u001b[0mx\u001b[0m\u001b[0;34m)\u001b[0m\u001b[0;34m:\u001b[0m\u001b[0;34m\u001b[0m\u001b[0;34m\u001b[0m\u001b[0m\n\u001b[0;32m----> 6\u001b[0;31m   \u001b[0;32mreturn\u001b[0m \u001b[0mx\u001b[0m\u001b[0;34m.\u001b[0m\u001b[0mreshape\u001b[0m\u001b[0;34m(\u001b[0m\u001b[0mjnp\u001b[0m\u001b[0;34m.\u001b[0m\u001b[0marray\u001b[0m\u001b[0;34m(\u001b[0m\u001b[0mx\u001b[0m\u001b[0;34m.\u001b[0m\u001b[0mshape\u001b[0m\u001b[0;34m)\u001b[0m\u001b[0;34m.\u001b[0m\u001b[0mprod\u001b[0m\u001b[0;34m(\u001b[0m\u001b[0;34m)\u001b[0m\u001b[0;34m)\u001b[0m\u001b[0;34m\u001b[0m\u001b[0;34m\u001b[0m\u001b[0m\n\u001b[0m\u001b[1;32m      7\u001b[0m \u001b[0;34m\u001b[0m\u001b[0m\n\u001b[1;32m      8\u001b[0m \u001b[0mx\u001b[0m \u001b[0;34m=\u001b[0m \u001b[0mjnp\u001b[0m\u001b[0;34m.\u001b[0m\u001b[0mones\u001b[0m\u001b[0;34m(\u001b[0m\u001b[0;34m(\u001b[0m\u001b[0;36m2\u001b[0m\u001b[0;34m,\u001b[0m \u001b[0;36m3\u001b[0m\u001b[0;34m)\u001b[0m\u001b[0;34m)\u001b[0m\u001b[0;34m\u001b[0m\u001b[0;34m\u001b[0m\u001b[0m\n",
            "    \u001b[0;31m[... skipping hidden 2 frame]\u001b[0m\n",
            "\u001b[0;32m/usr/local/lib/python3.10/dist-packages/jax/_src/numpy/array_methods.py\u001b[0m in \u001b[0;36m_compute_newshape\u001b[0;34m(a, newshape)\u001b[0m\n\u001b[1;32m    114\u001b[0m   \u001b[0;32mexcept\u001b[0m\u001b[0;34m:\u001b[0m\u001b[0;34m\u001b[0m\u001b[0;34m\u001b[0m\u001b[0m\n\u001b[1;32m    115\u001b[0m     \u001b[0mnewshape\u001b[0m \u001b[0;34m=\u001b[0m \u001b[0;34m[\u001b[0m\u001b[0mnewshape\u001b[0m\u001b[0;34m]\u001b[0m\u001b[0;34m\u001b[0m\u001b[0;34m\u001b[0m\u001b[0m\n\u001b[0;32m--> 116\u001b[0;31m   \u001b[0mnewshape\u001b[0m \u001b[0;34m=\u001b[0m \u001b[0mcore\u001b[0m\u001b[0;34m.\u001b[0m\u001b[0mcanonicalize_shape\u001b[0m\u001b[0;34m(\u001b[0m\u001b[0mnewshape\u001b[0m\u001b[0;34m)\u001b[0m  \u001b[0;31m# type: ignore[arg-type]\u001b[0m\u001b[0;34m\u001b[0m\u001b[0;34m\u001b[0m\u001b[0m\n\u001b[0m\u001b[1;32m    117\u001b[0m   \u001b[0mneg1s\u001b[0m \u001b[0;34m=\u001b[0m \u001b[0;34m[\u001b[0m\u001b[0mi\u001b[0m \u001b[0;32mfor\u001b[0m \u001b[0mi\u001b[0m\u001b[0;34m,\u001b[0m \u001b[0md\u001b[0m \u001b[0;32min\u001b[0m \u001b[0menumerate\u001b[0m\u001b[0;34m(\u001b[0m\u001b[0mnewshape\u001b[0m\u001b[0;34m)\u001b[0m \u001b[0;32mif\u001b[0m \u001b[0mtype\u001b[0m\u001b[0;34m(\u001b[0m\u001b[0md\u001b[0m\u001b[0;34m)\u001b[0m \u001b[0;32mis\u001b[0m \u001b[0mint\u001b[0m \u001b[0;32mand\u001b[0m \u001b[0md\u001b[0m \u001b[0;34m==\u001b[0m \u001b[0;34m-\u001b[0m\u001b[0;36m1\u001b[0m\u001b[0;34m]\u001b[0m\u001b[0;34m\u001b[0m\u001b[0;34m\u001b[0m\u001b[0m\n\u001b[1;32m    118\u001b[0m   \u001b[0;32mif\u001b[0m \u001b[0mlen\u001b[0m\u001b[0;34m(\u001b[0m\u001b[0mneg1s\u001b[0m\u001b[0;34m)\u001b[0m \u001b[0;34m>\u001b[0m \u001b[0;36m1\u001b[0m\u001b[0;34m:\u001b[0m\u001b[0;34m\u001b[0m\u001b[0;34m\u001b[0m\u001b[0m\n",
            "\u001b[0;32m/usr/local/lib/python3.10/dist-packages/jax/_src/core.py\u001b[0m in \u001b[0;36mcanonicalize_shape\u001b[0;34m(shape, context)\u001b[0m\n\u001b[1;32m   2140\u001b[0m   \u001b[0;32mexcept\u001b[0m \u001b[0mTypeError\u001b[0m\u001b[0;34m:\u001b[0m\u001b[0;34m\u001b[0m\u001b[0;34m\u001b[0m\u001b[0m\n\u001b[1;32m   2141\u001b[0m     \u001b[0;32mpass\u001b[0m\u001b[0;34m\u001b[0m\u001b[0;34m\u001b[0m\u001b[0m\n\u001b[0;32m-> 2142\u001b[0;31m   \u001b[0;32mraise\u001b[0m \u001b[0m_invalid_shape_error\u001b[0m\u001b[0;34m(\u001b[0m\u001b[0mshape\u001b[0m\u001b[0;34m,\u001b[0m \u001b[0mcontext\u001b[0m\u001b[0;34m)\u001b[0m\u001b[0;34m\u001b[0m\u001b[0;34m\u001b[0m\u001b[0m\n\u001b[0m\u001b[1;32m   2143\u001b[0m \u001b[0;34m\u001b[0m\u001b[0m\n\u001b[1;32m   2144\u001b[0m \u001b[0;32mdef\u001b[0m \u001b[0mcanonicalize_dim\u001b[0m\u001b[0;34m(\u001b[0m\u001b[0md\u001b[0m\u001b[0;34m:\u001b[0m \u001b[0mDimSize\u001b[0m\u001b[0;34m,\u001b[0m \u001b[0mcontext\u001b[0m\u001b[0;34m:\u001b[0m \u001b[0mstr\u001b[0m\u001b[0;34m=\u001b[0m\u001b[0;34m\"\"\u001b[0m\u001b[0;34m)\u001b[0m \u001b[0;34m->\u001b[0m \u001b[0mDimSize\u001b[0m\u001b[0;34m:\u001b[0m\u001b[0;34m\u001b[0m\u001b[0;34m\u001b[0m\u001b[0m\n",
            "\u001b[0;31mTypeError\u001b[0m: Shapes must be 1D sequences of concrete values of integer type, got [Traced<ShapedArray(int32[])>with<DynamicJaxprTrace(level=1/0)>].\nIf using `jit`, try using `static_argnums` or applying `jit` to smaller subfunctions.\nThe error occurred while tracing the function f at <ipython-input-31-5fa933a68063>:4 for jit. This value became a tracer due to JAX operations on these lines:\n\n  operation a:i32[2] = convert_element_type[new_dtype=int32 weak_type=False] b\n    from line <ipython-input-31-5fa933a68063>:6 (f)"
          ]
        }
      ]
    },
    {
      "cell_type": "code",
      "source": [
        "@jit\n",
        "def f(x):\n",
        "  print(f\"x = {x}\")\n",
        "  print(f\"x.shape = {x.shape}\")\n",
        "  print(f\"jnp.array(x.shape).prod() = {jnp.array(x.shape).prod()}\")\n",
        "  # comment this out to avoid the error:\n",
        "  # return x.reshape(jnp.array(x.shape).prod())\n",
        "\n",
        "f(x)\n"
      ],
      "metadata": {
        "colab": {
          "base_uri": "https://localhost:8080/"
        },
        "id": "TiU0JS8DR_7N",
        "outputId": "1191abe2-214a-4f71-9c84-d82f3a46e2f2"
      },
      "execution_count": 32,
      "outputs": [
        {
          "output_type": "stream",
          "name": "stdout",
          "text": [
            "x = Traced<ShapedArray(float32[2,3])>with<DynamicJaxprTrace(level=1/0)>\n",
            "x.shape = (2, 3)\n",
            "jnp.array(x.shape).prod() = Traced<ShapedArray(int32[])>with<DynamicJaxprTrace(level=1/0)>\n"
          ]
        }
      ]
    },
    {
      "cell_type": "code",
      "source": [
        "from jax import jit\n",
        "import jax.numpy as jnp\n",
        "import numpy as np\n",
        "\n",
        "@jit\n",
        "def f(x):\n",
        "  return x.reshape((np.prod(x.shape),))\n",
        "\n",
        "f(x)\n"
      ],
      "metadata": {
        "colab": {
          "base_uri": "https://localhost:8080/"
        },
        "id": "1gSH9RDPSJQl",
        "outputId": "02f17be7-8c76-471e-8126-152829e0e5b6"
      },
      "execution_count": 33,
      "outputs": [
        {
          "output_type": "execute_result",
          "data": {
            "text/plain": [
              "Array([1., 1., 1., 1., 1., 1.], dtype=float32)"
            ]
          },
          "metadata": {},
          "execution_count": 33
        }
      ]
    },
    {
      "cell_type": "code",
      "source": [
        "import numpy as np\n",
        "from jax import grad, jit\n",
        "from jax import lax\n",
        "from jax import random\n",
        "import jax\n",
        "import jax.numpy as jnp"
      ],
      "metadata": {
        "id": "9OQ2_uO_SWNX"
      },
      "execution_count": 34,
      "outputs": []
    },
    {
      "cell_type": "code",
      "source": [
        "def impure_print_side_effect(x):\n",
        "  print(\"Executing function\")  # This is a side-effect\n",
        "  return x\n",
        "\n",
        "# The side-effects appear during the first run\n",
        "print (\"First call: \", jit(impure_print_side_effect)(4.))\n",
        "\n",
        "# Subsequent runs with parameters of same type and shape may not show the side-effect\n",
        "# This is because JAX now invokes a cached compilation of the function\n",
        "print (\"Second call: \", jit(impure_print_side_effect)(5.))\n",
        "\n",
        "# JAX re-runs the Python function when the type or shape of the argument changes\n",
        "print (\"Third call, different type: \", jit(impure_print_side_effect)(jnp.array([5.])))\n"
      ],
      "metadata": {
        "colab": {
          "base_uri": "https://localhost:8080/"
        },
        "id": "z-xMFfArScOh",
        "outputId": "adbc6d4a-8634-4efe-9242-14a43c2d931d"
      },
      "execution_count": 35,
      "outputs": [
        {
          "output_type": "stream",
          "name": "stdout",
          "text": [
            "Executing function\n",
            "First call:  4.0\n",
            "Second call:  5.0\n",
            "Executing function\n",
            "Third call, different type:  [5.]\n"
          ]
        }
      ]
    },
    {
      "cell_type": "code",
      "source": [
        "g = 0.\n",
        "def impure_uses_globals(x):\n",
        "  return x + g\n",
        "\n",
        "# JAX captures the value of the global during the first run\n",
        "print (\"First call: \", jit(impure_uses_globals)(4.))\n",
        "g = 10.  # Update the global\n",
        "\n",
        "# Subsequent runs may silently use the cached value of the globals\n",
        "print (\"Second call: \", jit(impure_uses_globals)(5.))\n",
        "\n",
        "# JAX re-runs the Python function when the type or shape of the argument changes\n",
        "# This will end up reading the latest value of the global\n",
        "print (\"Third call, different type: \", jit(impure_uses_globals)(jnp.array([4.])))\n"
      ],
      "metadata": {
        "colab": {
          "base_uri": "https://localhost:8080/"
        },
        "id": "h1zS_5MtSrTp",
        "outputId": "1870b3da-386f-4ea0-962f-ff5f530f805f"
      },
      "execution_count": 36,
      "outputs": [
        {
          "output_type": "stream",
          "name": "stdout",
          "text": [
            "First call:  4.0\n",
            "Second call:  5.0\n",
            "Third call, different type:  [14.]\n"
          ]
        }
      ]
    },
    {
      "cell_type": "code",
      "source": [
        "g = 0.\n",
        "def impure_saves_global(x):\n",
        "  global g\n",
        "  g = x\n",
        "  return x\n",
        "\n",
        "# JAX runs once the transformed function with special Traced values for arguments\n",
        "print (\"First call: \", jit(impure_saves_global)(4.))\n",
        "print (\"Saved global: \", g)  # Saved global has an internal JAX value\n"
      ],
      "metadata": {
        "colab": {
          "base_uri": "https://localhost:8080/"
        },
        "id": "Cf70_yejSyz2",
        "outputId": "4adc20b2-6bed-4870-c6da-6a1c64902a1e"
      },
      "execution_count": 37,
      "outputs": [
        {
          "output_type": "stream",
          "name": "stdout",
          "text": [
            "First call:  4.0\n",
            "Saved global:  Traced<ShapedArray(float32[], weak_type=True)>with<DynamicJaxprTrace(level=1/0)>\n"
          ]
        }
      ]
    },
    {
      "cell_type": "code",
      "source": [
        "def pure_uses_internal_state(x):\n",
        "  state = dict(even=0, odd=0)\n",
        "  for i in range(10):\n",
        "    state['even' if i % 2 == 0 else 'odd'] += x\n",
        "  return state['even'] + state['odd']\n",
        "\n",
        "print(jit(pure_uses_internal_state)(5.))\n"
      ],
      "metadata": {
        "colab": {
          "base_uri": "https://localhost:8080/"
        },
        "id": "qy1xJOxTS6ex",
        "outputId": "d1cd68c2-564a-41af-989d-3618566d6de7"
      },
      "execution_count": 38,
      "outputs": [
        {
          "output_type": "stream",
          "name": "stdout",
          "text": [
            "50.0\n"
          ]
        }
      ]
    },
    {
      "cell_type": "code",
      "source": [
        "import jax.numpy as jnp\n",
        "import jax.lax as lax\n",
        "from jax import make_jaxpr\n",
        "\n",
        "# lax.fori_loop\n",
        "array = jnp.arange(10)\n",
        "print(lax.fori_loop(0, 10, lambda i,x: x+array[i], 0)) # expected result 45\n",
        "iterator = iter(range(10))\n",
        "print(lax.fori_loop(0, 10, lambda i,x: x+next(iterator), 0)) # unexpected result 0\n",
        "\n",
        "# lax.scan\n",
        "def func11(arr, extra):\n",
        "    ones = jnp.ones(arr.shape)\n",
        "    def body(carry, aelems):\n",
        "        ae1, ae2 = aelems\n",
        "        return (carry + ae1 * ae2 + extra, carry)\n",
        "    return lax.scan(body, 0., (arr, ones))\n",
        "make_jaxpr(func11)(jnp.arange(16), 5.)\n",
        "# make_jaxpr(func11)(iter(range(16)), 5.) # throws error\n",
        "\n",
        "# lax.cond\n",
        "array_operand = jnp.array([0.])\n",
        "lax.cond(True, lambda x: x+1, lambda x: x-1, array_operand)\n",
        "iter_operand = iter(range(10))\n",
        "# lax.cond(True, lambda x: next(x)+1, lambda x: next(x)-1, iter_operand) # throws error"
      ],
      "metadata": {
        "colab": {
          "base_uri": "https://localhost:8080/"
        },
        "id": "8MBAMplDTAMr",
        "outputId": "dcc350a5-9d15-4d3d-a4e7-318e142782e1"
      },
      "execution_count": 39,
      "outputs": [
        {
          "output_type": "stream",
          "name": "stdout",
          "text": [
            "45\n",
            "0\n"
          ]
        }
      ]
    },
    {
      "cell_type": "code",
      "source": [
        "numpy_array = np.zeros((3,3), dtype=np.float32)\n",
        "print(\"original array:\")\n",
        "print(numpy_array)\n",
        "\n",
        "# In place, mutating update\n",
        "numpy_array[1, :] = 1.0\n",
        "print(\"updated array:\")\n",
        "print(numpy_array)\n"
      ],
      "metadata": {
        "colab": {
          "base_uri": "https://localhost:8080/"
        },
        "id": "6_n8S_kTTKOr",
        "outputId": "b2710e74-3682-4c6d-cdc0-c93a1801f0b3"
      },
      "execution_count": 40,
      "outputs": [
        {
          "output_type": "stream",
          "name": "stdout",
          "text": [
            "original array:\n",
            "[[0. 0. 0.]\n",
            " [0. 0. 0.]\n",
            " [0. 0. 0.]]\n",
            "updated array:\n",
            "[[0. 0. 0.]\n",
            " [1. 1. 1.]\n",
            " [0. 0. 0.]]\n"
          ]
        }
      ]
    },
    {
      "cell_type": "code",
      "source": [
        "%xmode Minimal\n"
      ],
      "metadata": {
        "colab": {
          "base_uri": "https://localhost:8080/"
        },
        "id": "1KJgfnLpTS3G",
        "outputId": "fdb1a12e-a610-4dd1-accc-9c073c1f7a45"
      },
      "execution_count": 41,
      "outputs": [
        {
          "output_type": "stream",
          "name": "stdout",
          "text": [
            "Exception reporting mode: Minimal\n"
          ]
        }
      ]
    },
    {
      "cell_type": "code",
      "source": [
        "jax_array = jnp.zeros((3,3), dtype=jnp.float32)\n",
        "\n",
        "# In place update of JAX's array will yield an error!\n",
        "jax_array[1, :] = 1.0\n"
      ],
      "metadata": {
        "colab": {
          "base_uri": "https://localhost:8080/",
          "height": 89
        },
        "id": "5M_uPIPcTU9j",
        "outputId": "0fdfc475-0464-429f-dc1e-874db39c930d"
      },
      "execution_count": 42,
      "outputs": [
        {
          "output_type": "error",
          "ename": "TypeError",
          "evalue": "'<class 'jaxlib.xla_extension.ArrayImpl'>' object does not support item assignment. JAX arrays are immutable. Instead of ``x[idx] = y``, use ``x = x.at[idx].set(y)`` or another .at[] method: https://jax.readthedocs.io/en/latest/_autosummary/jax.numpy.ndarray.at.html",
          "traceback": [
            "\u001b[0;31mTypeError\u001b[0m\u001b[0;31m:\u001b[0m '<class 'jaxlib.xla_extension.ArrayImpl'>' object does not support item assignment. JAX arrays are immutable. Instead of ``x[idx] = y``, use ``x = x.at[idx].set(y)`` or another .at[] method: https://jax.readthedocs.io/en/latest/_autosummary/jax.numpy.ndarray.at.html\n"
          ]
        }
      ]
    },
    {
      "cell_type": "code",
      "source": [
        "updated_array = jax_array.at[1, :].set(1.0)\n",
        "print(\"updated array:\\n\", updated_array)\n"
      ],
      "metadata": {
        "colab": {
          "base_uri": "https://localhost:8080/"
        },
        "id": "d58ZLmsuTX8x",
        "outputId": "c93196c8-1d4f-46b6-be15-17bf765cbc29"
      },
      "execution_count": 43,
      "outputs": [
        {
          "output_type": "stream",
          "name": "stdout",
          "text": [
            "updated array:\n",
            " [[0. 0. 0.]\n",
            " [1. 1. 1.]\n",
            " [0. 0. 0.]]\n"
          ]
        }
      ]
    },
    {
      "cell_type": "code",
      "source": [
        "print(\"original array unchanged:\\n\", jax_array)\n"
      ],
      "metadata": {
        "colab": {
          "base_uri": "https://localhost:8080/"
        },
        "id": "aw0Va9vgTde8",
        "outputId": "92d47bba-4d79-4c1d-f3cd-08de7bc763b1"
      },
      "execution_count": 44,
      "outputs": [
        {
          "output_type": "stream",
          "name": "stdout",
          "text": [
            "original array unchanged:\n",
            " [[0. 0. 0.]\n",
            " [0. 0. 0.]\n",
            " [0. 0. 0.]]\n"
          ]
        }
      ]
    },
    {
      "cell_type": "code",
      "source": [
        "print(\"original array:\")\n",
        "jax_array = jnp.ones((5, 6))\n",
        "print(jax_array)\n",
        "\n",
        "new_jax_array = jax_array.at[::2, 3:].add(7.)\n",
        "print(\"new array post-addition:\")\n",
        "print(new_jax_array)\n"
      ],
      "metadata": {
        "colab": {
          "base_uri": "https://localhost:8080/"
        },
        "id": "Gt_C2wg8ThKn",
        "outputId": "91705dce-da10-410e-c1be-4b6276d594c8"
      },
      "execution_count": 45,
      "outputs": [
        {
          "output_type": "stream",
          "name": "stdout",
          "text": [
            "original array:\n",
            "[[1. 1. 1. 1. 1. 1.]\n",
            " [1. 1. 1. 1. 1. 1.]\n",
            " [1. 1. 1. 1. 1. 1.]\n",
            " [1. 1. 1. 1. 1. 1.]\n",
            " [1. 1. 1. 1. 1. 1.]]\n",
            "new array post-addition:\n",
            "[[1. 1. 1. 8. 8. 8.]\n",
            " [1. 1. 1. 1. 1. 1.]\n",
            " [1. 1. 1. 8. 8. 8.]\n",
            " [1. 1. 1. 1. 1. 1.]\n",
            " [1. 1. 1. 8. 8. 8.]]\n"
          ]
        }
      ]
    },
    {
      "cell_type": "code",
      "source": [
        "np.arange(10)[11]\n"
      ],
      "metadata": {
        "colab": {
          "base_uri": "https://localhost:8080/",
          "height": 54
        },
        "id": "7ekQBVQ-Tt1x",
        "outputId": "43279d89-1113-482f-813a-a38180aa6533"
      },
      "execution_count": 46,
      "outputs": [
        {
          "output_type": "error",
          "ename": "IndexError",
          "evalue": "index 11 is out of bounds for axis 0 with size 10",
          "traceback": [
            "\u001b[0;31mIndexError\u001b[0m\u001b[0;31m:\u001b[0m index 11 is out of bounds for axis 0 with size 10\n"
          ]
        }
      ]
    },
    {
      "cell_type": "code",
      "source": [
        "jnp.arange(10)[11]\n"
      ],
      "metadata": {
        "colab": {
          "base_uri": "https://localhost:8080/"
        },
        "id": "aWYz1mCqT3QC",
        "outputId": "3cbc847e-29dd-4dee-a058-a0269a063206"
      },
      "execution_count": 47,
      "outputs": [
        {
          "output_type": "execute_result",
          "data": {
            "text/plain": [
              "Array(9, dtype=int32)"
            ]
          },
          "metadata": {},
          "execution_count": 47
        }
      ]
    },
    {
      "cell_type": "code",
      "source": [
        "jnp.arange(10.0).at[11].get()\n"
      ],
      "metadata": {
        "colab": {
          "base_uri": "https://localhost:8080/"
        },
        "id": "jELHWNIHT-V3",
        "outputId": "013f7f99-b033-4544-98a5-5fefa839cf0a"
      },
      "execution_count": 48,
      "outputs": [
        {
          "output_type": "execute_result",
          "data": {
            "text/plain": [
              "Array(9., dtype=float32)"
            ]
          },
          "metadata": {},
          "execution_count": 48
        }
      ]
    },
    {
      "cell_type": "code",
      "source": [
        "jnp.arange(10.0).at[11].get(mode='fill', fill_value=jnp.nan)\n"
      ],
      "metadata": {
        "colab": {
          "base_uri": "https://localhost:8080/"
        },
        "id": "1Rrt_HTUUA21",
        "outputId": "fda0e2e7-dae2-4d14-a034-1553f2672d55"
      },
      "execution_count": 49,
      "outputs": [
        {
          "output_type": "execute_result",
          "data": {
            "text/plain": [
              "Array(nan, dtype=float32)"
            ]
          },
          "metadata": {},
          "execution_count": 49
        }
      ]
    },
    {
      "cell_type": "code",
      "source": [
        "np.sum([1, 2, 3])\n"
      ],
      "metadata": {
        "colab": {
          "base_uri": "https://localhost:8080/"
        },
        "id": "Bt3apqAXUDib",
        "outputId": "96bc0c4f-4f30-4eb1-a93d-d11a2bd6d3ec"
      },
      "execution_count": 50,
      "outputs": [
        {
          "output_type": "execute_result",
          "data": {
            "text/plain": [
              "6"
            ]
          },
          "metadata": {},
          "execution_count": 50
        }
      ]
    },
    {
      "cell_type": "code",
      "source": [
        "jnp.sum([1, 2, 3])\n"
      ],
      "metadata": {
        "colab": {
          "base_uri": "https://localhost:8080/",
          "height": 54
        },
        "id": "AEjrRI-PUJvV",
        "outputId": "f7d0a374-f6e8-40bc-b3b7-e5317b860777"
      },
      "execution_count": 51,
      "outputs": [
        {
          "output_type": "error",
          "ename": "TypeError",
          "evalue": "sum requires ndarray or scalar arguments, got <class 'list'> at position 0.",
          "traceback": [
            "\u001b[0;31mTypeError\u001b[0m\u001b[0;31m:\u001b[0m sum requires ndarray or scalar arguments, got <class 'list'> at position 0.\n"
          ]
        }
      ]
    },
    {
      "cell_type": "code",
      "source": [
        "def permissive_sum(x):\n",
        "  return jnp.sum(jnp.array(x))\n",
        "\n",
        "x = list(range(10))\n",
        "permissive_sum(x)\n"
      ],
      "metadata": {
        "colab": {
          "base_uri": "https://localhost:8080/"
        },
        "id": "h60FZuifULCr",
        "outputId": "6df4eb57-5418-4790-9517-3d144192c05e"
      },
      "execution_count": 52,
      "outputs": [
        {
          "output_type": "execute_result",
          "data": {
            "text/plain": [
              "Array(45, dtype=int32)"
            ]
          },
          "metadata": {},
          "execution_count": 52
        }
      ]
    },
    {
      "cell_type": "code",
      "source": [
        "make_jaxpr(permissive_sum)(x)\n"
      ],
      "metadata": {
        "colab": {
          "base_uri": "https://localhost:8080/"
        },
        "id": "pjNlIwZyUP8L",
        "outputId": "7f495abc-acd1-4278-9e45-6266fb6f5d1f"
      },
      "execution_count": 53,
      "outputs": [
        {
          "output_type": "execute_result",
          "data": {
            "text/plain": [
              "{ lambda ; a:i32[] b:i32[] c:i32[] d:i32[] e:i32[] f:i32[] g:i32[] h:i32[] i:i32[]\n",
              "    j:i32[]. let\n",
              "    k:i32[] = convert_element_type[new_dtype=int32 weak_type=False] a\n",
              "    l:i32[] = convert_element_type[new_dtype=int32 weak_type=False] b\n",
              "    m:i32[] = convert_element_type[new_dtype=int32 weak_type=False] c\n",
              "    n:i32[] = convert_element_type[new_dtype=int32 weak_type=False] d\n",
              "    o:i32[] = convert_element_type[new_dtype=int32 weak_type=False] e\n",
              "    p:i32[] = convert_element_type[new_dtype=int32 weak_type=False] f\n",
              "    q:i32[] = convert_element_type[new_dtype=int32 weak_type=False] g\n",
              "    r:i32[] = convert_element_type[new_dtype=int32 weak_type=False] h\n",
              "    s:i32[] = convert_element_type[new_dtype=int32 weak_type=False] i\n",
              "    t:i32[] = convert_element_type[new_dtype=int32 weak_type=False] j\n",
              "    u:i32[1] = broadcast_in_dim[broadcast_dimensions=() shape=(1,)] k\n",
              "    v:i32[1] = broadcast_in_dim[broadcast_dimensions=() shape=(1,)] l\n",
              "    w:i32[1] = broadcast_in_dim[broadcast_dimensions=() shape=(1,)] m\n",
              "    x:i32[1] = broadcast_in_dim[broadcast_dimensions=() shape=(1,)] n\n",
              "    y:i32[1] = broadcast_in_dim[broadcast_dimensions=() shape=(1,)] o\n",
              "    z:i32[1] = broadcast_in_dim[broadcast_dimensions=() shape=(1,)] p\n",
              "    ba:i32[1] = broadcast_in_dim[broadcast_dimensions=() shape=(1,)] q\n",
              "    bb:i32[1] = broadcast_in_dim[broadcast_dimensions=() shape=(1,)] r\n",
              "    bc:i32[1] = broadcast_in_dim[broadcast_dimensions=() shape=(1,)] s\n",
              "    bd:i32[1] = broadcast_in_dim[broadcast_dimensions=() shape=(1,)] t\n",
              "    be:i32[10] = concatenate[dimension=0] u v w x y z ba bb bc bd\n",
              "    bf:i32[] = reduce_sum[axes=(0,)] be\n",
              "  in (bf,) }"
            ]
          },
          "metadata": {},
          "execution_count": 53
        }
      ]
    },
    {
      "cell_type": "code",
      "source": [
        "jnp.sum(jnp.array(x))"
      ],
      "metadata": {
        "colab": {
          "base_uri": "https://localhost:8080/"
        },
        "id": "MwEsA1zUUU_W",
        "outputId": "dc00ad1a-bc09-45e0-d643-b9368b514204"
      },
      "execution_count": 54,
      "outputs": [
        {
          "output_type": "execute_result",
          "data": {
            "text/plain": [
              "Array(45, dtype=int32)"
            ]
          },
          "metadata": {},
          "execution_count": 54
        }
      ]
    },
    {
      "cell_type": "code",
      "source": [
        "print(np.random.random())\n",
        "print(np.random.random())\n",
        "print(np.random.random())\n"
      ],
      "metadata": {
        "colab": {
          "base_uri": "https://localhost:8080/"
        },
        "id": "pVYKSAKnUfNz",
        "outputId": "04b6ed75-40fa-48fb-b5e0-8be33bb7b9dc"
      },
      "execution_count": 55,
      "outputs": [
        {
          "output_type": "stream",
          "name": "stdout",
          "text": [
            "0.9548190168792293\n",
            "0.12555013759546874\n",
            "0.57549488523015\n"
          ]
        }
      ]
    },
    {
      "cell_type": "code",
      "source": [
        "np.random.seed(0)\n",
        "rng_state = np.random.get_state()\n",
        "# print(rng_state)\n",
        "# --> ('MT19937', array([0, 1, 1812433255, 1900727105, 1208447044,\n",
        "#       2481403966, 4042607538,  337614300, ... 614 more numbers...,\n",
        "#       3048484911, 1796872496], dtype=uint32), 624, 0, 0.0)\n"
      ],
      "metadata": {
        "id": "15b9WRX7UmzV"
      },
      "execution_count": 58,
      "outputs": []
    },
    {
      "cell_type": "code",
      "source": [
        "_ = np.random.uniform()\n",
        "rng_state = np.random.get_state()\n",
        "#print(rng_state)\n",
        "# --> ('MT19937', array([2443250962, 1093594115, 1878467924,\n",
        "#       ..., 2648828502, 1678096082], dtype=uint32), 2, 0, 0.0)\n",
        "\n",
        "# Let's exhaust the entropy in this PRNG statevector\n",
        "for i in range(311):\n",
        "  _ = np.random.uniform()\n",
        "rng_state = np.random.get_state()\n",
        "#print(rng_state)\n",
        "# --> ('MT19937', array([2443250962, 1093594115, 1878467924,\n",
        "#       ..., 2648828502, 1678096082], dtype=uint32), 624, 0, 0.0)\n",
        "\n",
        "# Next call iterates the RNG state for a new batch of fake \"entropy\".\n",
        "_ = np.random.uniform()\n",
        "rng_state = np.random.get_state()\n",
        "# print(rng_state)\n",
        "# --> ('MT19937', array([1499117434, 2949980591, 2242547484,\n",
        "#      4162027047, 3277342478], dtype=uint32), 2, 0, 0.0)\n"
      ],
      "metadata": {
        "id": "XKYKEx3nUtag"
      },
      "execution_count": 59,
      "outputs": []
    },
    {
      "cell_type": "code",
      "source": [
        "from jax import random\n",
        "key = random.key(0)\n",
        "key\n"
      ],
      "metadata": {
        "colab": {
          "base_uri": "https://localhost:8080/"
        },
        "id": "VVnSG3f-Uzzt",
        "outputId": "8dc8eddb-0e02-46c3-ab33-601053a43c53"
      },
      "execution_count": 60,
      "outputs": [
        {
          "output_type": "execute_result",
          "data": {
            "text/plain": [
              "Array((), dtype=key<fry>) overlaying:\n",
              "[0 0]"
            ]
          },
          "metadata": {},
          "execution_count": 60
        }
      ]
    },
    {
      "cell_type": "code",
      "source": [
        "print(random.normal(key, shape=(1,)))\n",
        "print(key)\n",
        "# No no no!\n",
        "print(random.normal(key, shape=(1,)))\n",
        "print(key)\n"
      ],
      "metadata": {
        "colab": {
          "base_uri": "https://localhost:8080/"
        },
        "id": "0tHvI03_U5I1",
        "outputId": "14713c95-7d47-444f-bb6d-f59a7b007dbd"
      },
      "execution_count": 61,
      "outputs": [
        {
          "output_type": "stream",
          "name": "stdout",
          "text": [
            "[-0.20584226]\n",
            "Array((), dtype=key<fry>) overlaying:\n",
            "[0 0]\n",
            "[-0.20584226]\n",
            "Array((), dtype=key<fry>) overlaying:\n",
            "[0 0]\n"
          ]
        }
      ]
    },
    {
      "cell_type": "code",
      "source": [
        "print(\"old key\", key)\n",
        "key, subkey = random.split(key)\n",
        "normal_pseudorandom = random.normal(subkey, shape=(1,))\n",
        "print(\"    \\---SPLIT --> new key   \", key)\n",
        "print(\"             \\--> new subkey\", subkey, \"--> normal\", normal_pseudorandom)\n"
      ],
      "metadata": {
        "colab": {
          "base_uri": "https://localhost:8080/"
        },
        "id": "YcJFRtJYU_R-",
        "outputId": "597856d8-14ea-4e1e-beee-58f1a7283fa0"
      },
      "execution_count": 62,
      "outputs": [
        {
          "output_type": "stream",
          "name": "stdout",
          "text": [
            "old key Array((), dtype=key<fry>) overlaying:\n",
            "[0 0]\n",
            "    \\---SPLIT --> new key    Array((), dtype=key<fry>) overlaying:\n",
            "[4146024105  967050713]\n",
            "             \\--> new subkey Array((), dtype=key<fry>) overlaying:\n",
            "[2718843009 1272950319] --> normal [-1.2515389]\n"
          ]
        }
      ]
    },
    {
      "cell_type": "code",
      "source": [
        "print(\"old key\", key)\n",
        "key, subkey = random.split(key)\n",
        "normal_pseudorandom = random.normal(subkey, shape=(1,))\n",
        "print(\"    \\---SPLIT --> new key   \", key)\n",
        "print(\"             \\--> new subkey\", subkey, \"--> normal\", normal_pseudorandom)\n"
      ],
      "metadata": {
        "colab": {
          "base_uri": "https://localhost:8080/"
        },
        "id": "BBymDVkuVDPx",
        "outputId": "4d6213eb-3bbd-4642-9a49-ec27327299c7"
      },
      "execution_count": 63,
      "outputs": [
        {
          "output_type": "stream",
          "name": "stdout",
          "text": [
            "old key Array((), dtype=key<fry>) overlaying:\n",
            "[4146024105  967050713]\n",
            "    \\---SPLIT --> new key    Array((), dtype=key<fry>) overlaying:\n",
            "[2384771982 3928867769]\n",
            "             \\--> new subkey Array((), dtype=key<fry>) overlaying:\n",
            "[1278412471 2182328957] --> normal [-0.58665055]\n"
          ]
        }
      ]
    },
    {
      "cell_type": "code",
      "source": [
        "key, *subkeys = random.split(key, 4)\n",
        "for subkey in subkeys:\n",
        "  print(random.normal(subkey, shape=(1,)))\n"
      ],
      "metadata": {
        "colab": {
          "base_uri": "https://localhost:8080/"
        },
        "id": "iegjCqxqVFbZ",
        "outputId": "7037bb43-840b-4466-b1fa-c72d53692e28"
      },
      "execution_count": 64,
      "outputs": [
        {
          "output_type": "stream",
          "name": "stdout",
          "text": [
            "[-0.37533438]\n",
            "[0.98645043]\n",
            "[0.14553197]\n"
          ]
        }
      ]
    },
    {
      "cell_type": "code",
      "source": [],
      "metadata": {
        "id": "4V4ry0NeVIiX"
      },
      "execution_count": null,
      "outputs": []
    },
    {
      "cell_type": "markdown",
      "source": [
        "JAX 101"
      ],
      "metadata": {
        "id": "pERZ1yObVQzi"
      }
    },
    {
      "cell_type": "code",
      "source": [
        "import jax\n",
        "import jax.numpy as jnp\n",
        "\n",
        "x = jnp.arange(10)\n",
        "print(x)\n"
      ],
      "metadata": {
        "colab": {
          "base_uri": "https://localhost:8080/"
        },
        "id": "P4SLgDHjVRsf",
        "outputId": "5819c354-7b48-46d5-9662-ba915ef14559"
      },
      "execution_count": 65,
      "outputs": [
        {
          "output_type": "stream",
          "name": "stdout",
          "text": [
            "[0 1 2 3 4 5 6 7 8 9]\n"
          ]
        }
      ]
    },
    {
      "cell_type": "code",
      "source": [
        "x\n"
      ],
      "metadata": {
        "colab": {
          "base_uri": "https://localhost:8080/"
        },
        "id": "Ke74nBpeVUl2",
        "outputId": "bec05181-143c-4895-a1a4-acd925da9d38"
      },
      "execution_count": 66,
      "outputs": [
        {
          "output_type": "execute_result",
          "data": {
            "text/plain": [
              "Array([0, 1, 2, 3, 4, 5, 6, 7, 8, 9], dtype=int32)"
            ]
          },
          "metadata": {},
          "execution_count": 66
        }
      ]
    },
    {
      "cell_type": "code",
      "source": [
        "long_vector = jnp.arange(int(1e7))\n",
        "\n",
        "%timeit jnp.dot(long_vector, long_vector).block_until_ready()\n"
      ],
      "metadata": {
        "colab": {
          "base_uri": "https://localhost:8080/"
        },
        "id": "BY3DVItMVZa9",
        "outputId": "f09e9258-59dd-4cc6-820f-68f5bb417e88"
      },
      "execution_count": 67,
      "outputs": [
        {
          "output_type": "stream",
          "name": "stdout",
          "text": [
            "373 µs ± 40.1 µs per loop (mean ± std. dev. of 7 runs, 1000 loops each)\n"
          ]
        }
      ]
    },
    {
      "cell_type": "code",
      "source": [
        "def sum_of_squares(x):\n",
        "  return jnp.sum(x**2)\n"
      ],
      "metadata": {
        "id": "fbYBpfwUVolZ"
      },
      "execution_count": 68,
      "outputs": []
    },
    {
      "cell_type": "code",
      "source": [
        "sum_of_squares_dx = jax.grad(sum_of_squares)\n",
        "\n",
        "x = jnp.asarray([1.0, 2.0, 3.0, 4.0])\n",
        "\n",
        "print(sum_of_squares(x))\n",
        "\n",
        "print(sum_of_squares_dx(x))\n"
      ],
      "metadata": {
        "colab": {
          "base_uri": "https://localhost:8080/"
        },
        "id": "Ze3XKMPsVuRz",
        "outputId": "875dfc6e-f93d-46bb-cb08-605d8f211ab8"
      },
      "execution_count": 69,
      "outputs": [
        {
          "output_type": "stream",
          "name": "stdout",
          "text": [
            "30.0\n",
            "[2. 4. 6. 8.]\n"
          ]
        }
      ]
    },
    {
      "cell_type": "code",
      "source": [
        "def sum_squared_error(x, y):\n",
        "  return jnp.sum((x-y)**2)\n",
        "\n",
        "sum_squared_error_dx = jax.grad(sum_squared_error)\n",
        "\n",
        "y = jnp.asarray([1.1, 2.1, 3.1, 4.1])\n",
        "\n",
        "print(sum_squared_error_dx(x, y))\n"
      ],
      "metadata": {
        "colab": {
          "base_uri": "https://localhost:8080/"
        },
        "id": "7R_5yhqEVxJI",
        "outputId": "af0f8586-6554-4377-ff83-50462cff4686"
      },
      "execution_count": 70,
      "outputs": [
        {
          "output_type": "stream",
          "name": "stdout",
          "text": [
            "[-0.20000005 -0.19999981 -0.19999981 -0.19999981]\n"
          ]
        }
      ]
    },
    {
      "cell_type": "code",
      "source": [
        "jax.grad(sum_squared_error, argnums=(0, 1))(x, y)  # Find gradient wrt both x & y\n"
      ],
      "metadata": {
        "colab": {
          "base_uri": "https://localhost:8080/"
        },
        "id": "79J5zZLcWKkh",
        "outputId": "f6fabb93-fb71-4c9b-f847-1e1f5118f4e2"
      },
      "execution_count": 71,
      "outputs": [
        {
          "output_type": "execute_result",
          "data": {
            "text/plain": [
              "(Array([-0.20000005, -0.19999981, -0.19999981, -0.19999981], dtype=float32),\n",
              " Array([0.20000005, 0.19999981, 0.19999981, 0.19999981], dtype=float32))"
            ]
          },
          "metadata": {},
          "execution_count": 71
        }
      ]
    },
    {
      "cell_type": "code",
      "source": [
        "jax.value_and_grad(sum_squared_error)(x, y)\n"
      ],
      "metadata": {
        "colab": {
          "base_uri": "https://localhost:8080/"
        },
        "id": "vYBOEB2EWMW5",
        "outputId": "a4190ab6-0fa3-4270-cf77-ac3c768e5fa1"
      },
      "execution_count": 72,
      "outputs": [
        {
          "output_type": "execute_result",
          "data": {
            "text/plain": [
              "(Array(0.03999995, dtype=float32),\n",
              " Array([-0.20000005, -0.19999981, -0.19999981, -0.19999981], dtype=float32))"
            ]
          },
          "metadata": {},
          "execution_count": 72
        }
      ]
    },
    {
      "cell_type": "code",
      "source": [
        "def squared_error_with_aux(x, y):\n",
        "  return sum_squared_error(x, y), x-y\n",
        "\n",
        "jax.grad(squared_error_with_aux)(x, y)\n"
      ],
      "metadata": {
        "colab": {
          "base_uri": "https://localhost:8080/",
          "height": 176
        },
        "id": "DQtpn4WPW0bg",
        "outputId": "c933f257-256b-4151-e342-69fb3380a82b"
      },
      "execution_count": 73,
      "outputs": [
        {
          "output_type": "error",
          "ename": "TypeError",
          "evalue": "Gradient only defined for scalar-output functions. Output was (Array(0.03999995, dtype=float32), Array([-0.10000002, -0.0999999 , -0.0999999 , -0.0999999 ], dtype=float32)).",
          "traceback": [
            "\u001b[0;31mTypeError\u001b[0m\u001b[0;31m:\u001b[0m Value (Array(0.03999995, dtype=float32), Array([-0.10000002, -0.0999999 , -0.0999999 , -0.0999999 ], dtype=float32)) with type <class 'tuple'> is not a valid JAX type\n",
            "\nThe above exception was the direct cause of the following exception:\n",
            "\u001b[0;31mTypeError\u001b[0m\u001b[0;31m:\u001b[0m Gradient only defined for scalar-output functions. Output was (Array(0.03999995, dtype=float32), Array([-0.10000002, -0.0999999 , -0.0999999 , -0.0999999 ], dtype=float32)).\n"
          ]
        }
      ]
    },
    {
      "cell_type": "code",
      "source": [
        "jax.grad(squared_error_with_aux, has_aux=True)(x, y)\n"
      ],
      "metadata": {
        "colab": {
          "base_uri": "https://localhost:8080/"
        },
        "id": "rre7ObiCWeSi",
        "outputId": "37d9affa-755e-4907-96da-a7d5e58ffa8a"
      },
      "execution_count": 74,
      "outputs": [
        {
          "output_type": "execute_result",
          "data": {
            "text/plain": [
              "(Array([-0.20000005, -0.19999981, -0.19999981, -0.19999981], dtype=float32),\n",
              " Array([-0.10000002, -0.0999999 , -0.0999999 , -0.0999999 ], dtype=float32))"
            ]
          },
          "metadata": {},
          "execution_count": 74
        }
      ]
    },
    {
      "cell_type": "code",
      "source": [
        "import numpy as np\n",
        "import matplotlib.pyplot as plt\n",
        "\n",
        "xs = np.random.normal(size=(100,))\n",
        "noise = np.random.normal(scale=0.1, size=(100,))\n",
        "ys = xs * 3 - 1 + noise\n",
        "\n",
        "plt.scatter(xs, ys);\n"
      ],
      "metadata": {
        "colab": {
          "base_uri": "https://localhost:8080/",
          "height": 430
        },
        "id": "0686m4WSW2_j",
        "outputId": "cd79b606-9276-4425-ee4e-a422ec1771f2"
      },
      "execution_count": 75,
      "outputs": [
        {
          "output_type": "display_data",
          "data": {
            "text/plain": [
              "<Figure size 640x480 with 1 Axes>"
            ],
            "image/png": "[encoded data removed]"
          },
          "metadata": {}
        }
      ]
    },
    {
      "cell_type": "code",
      "source": [
        "def model(theta, x):\n",
        "  \"\"\"Computes wx + b on a batch of input x.\"\"\"\n",
        "  w, b = theta\n",
        "  return w * x + b\n"
      ],
      "metadata": {
        "id": "ll3KpDccW-bk"
      },
      "execution_count": 76,
      "outputs": []
    },
    {
      "cell_type": "code",
      "source": [
        "def loss_fn(theta, x, y):\n",
        "  prediction = model(theta, x)\n",
        "  return jnp.mean((prediction-y)**2)\n"
      ],
      "metadata": {
        "id": "HU_7rXh-XHMy"
      },
      "execution_count": 77,
      "outputs": []
    },
    {
      "cell_type": "code",
      "source": [
        "def update(theta, x, y, lr=0.1):\n",
        "  return theta - lr * jax.grad(loss_fn)(theta, x, y)\n"
      ],
      "metadata": {
        "id": "FxkdySxoXJka"
      },
      "execution_count": 78,
      "outputs": []
    },
    {
      "cell_type": "code",
      "source": [
        "theta = jnp.array([1., 1.])\n",
        "\n",
        "for _ in range(1000):\n",
        "  theta = update(theta, xs, ys)\n",
        "\n",
        "plt.scatter(xs, ys)\n",
        "plt.plot(xs, model(theta, xs))\n",
        "\n",
        "w, b = theta\n",
        "print(f\"w: {w:<.2f}, b: {b:<.2f}\")\n"
      ],
      "metadata": {
        "colab": {
          "base_uri": "https://localhost:8080/",
          "height": 447
        },
        "id": "EjhoPOYbXMkx",
        "outputId": "ef19c3fb-e008-4daf-b2f0-987994ddde59"
      },
      "execution_count": 79,
      "outputs": [
        {
          "output_type": "stream",
          "name": "stdout",
          "text": [
            "w: 3.00, b: -1.01\n"
          ]
        },
        {
          "output_type": "display_data",
          "data": {
            "text/plain": [
              "<Figure size 640x480 with 1 Axes>"
            ],
            "image/png": "[encoded data removed]"
          },
          "metadata": {}
        }
      ]
    },
    {
      "cell_type": "code",
      "source": [],
      "metadata": {
        "id": "qonWSrR6XTtj"
      },
      "execution_count": null,
      "outputs": []
    }
  ]
}